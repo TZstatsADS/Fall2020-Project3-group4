{
 "cells": [
  {
   "cell_type": "code",
   "execution_count": 1,
   "metadata": {},
   "outputs": [],
   "source": [
    "from sklearn.linear_model import LogisticRegression\n",
    "import time"
   ]
  },
  {
   "cell_type": "code",
   "execution_count": 2,
   "metadata": {},
   "outputs": [],
   "source": [
    "def train_lasso(feature_train,label_train,penalty,solver,class_weight):\n",
    "    start = time.time()\n",
    "    lasso = LogisticRegression(penalty=penalty,solver=solver,class_weight=class_weight).fit(feature_train,label_train)\n",
    "    end = time.time()\n",
    "    train_time = end-start\n",
    "    return [train_time,lasso]"
   ]
  }
 ],
 "metadata": {
  "kernelspec": {
   "display_name": "Python 3",
   "language": "python",
   "name": "python3"
  },
  "language_info": {
   "codemirror_mode": {
    "name": "ipython",
    "version": 3
   },
   "file_extension": ".py",
   "mimetype": "text/x-python",
   "name": "python",
   "nbconvert_exporter": "python",
   "pygments_lexer": "ipython3",
   "version": "3.7.6"
  }
 },
 "nbformat": 4,
 "nbformat_minor": 4
}
