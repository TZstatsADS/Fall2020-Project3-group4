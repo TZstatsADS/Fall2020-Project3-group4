{
 "cells": [
  {
   "cell_type": "code",
   "execution_count": 1,
   "metadata": {},
   "outputs": [],
   "source": [
    "import numpy as np\n",
    "from sklearn.metrics import balanced_accuracy_score\n",
    "from sklearn.metrics import roc_auc_score"
   ]
  },
  {
   "cell_type": "code",
   "execution_count": 2,
   "metadata": {},
   "outputs": [],
   "source": [
    "def compute_metrics(feature_test,label_test,test_preds, model):\n",
    "    \n",
    "    classification_error = np.mean(np.array(test_preds) != np.array(label_test))\n",
    "    accuracy = 1-classification_error\n",
    "    balanced_accuracy = balanced_accuracy_score(label_test,test_preds)\n",
    "    \n",
    "    #these are not class predictions, they're probabilities so we don't include the\n",
    "    #time it takes to find them in prediction time\n",
    "    test_probs = model.predict_proba(feature_test)[:,1]\n",
    "    auc = roc_auc_score(label_test,test_probs)\n",
    "    \n",
    "    return [accuracy, balanced_accuracy, auc]"
   ]
  }
 ],
 "metadata": {
  "kernelspec": {
   "display_name": "Python 3",
   "language": "python",
   "name": "python3"
  },
  "language_info": {
   "codemirror_mode": {
    "name": "ipython",
    "version": 3
   },
   "file_extension": ".py",
   "mimetype": "text/x-python",
   "name": "python",
   "nbconvert_exporter": "python",
   "pygments_lexer": "ipython3",
   "version": "3.7.6"
  }
 },
 "nbformat": 4,
 "nbformat_minor": 4
}
