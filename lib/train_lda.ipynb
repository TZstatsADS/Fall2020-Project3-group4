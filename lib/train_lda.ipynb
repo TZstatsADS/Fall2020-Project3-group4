{
 "cells": [
  {
   "cell_type": "code",
   "execution_count": 1,
   "metadata": {},
   "outputs": [],
   "source": [
    "from sklearn.discriminant_analysis import LinearDiscriminantAnalysis as LDA\n",
    "import time"
   ]
  },
  {
   "cell_type": "code",
   "execution_count": 2,
   "metadata": {},
   "outputs": [],
   "source": [
    "def train_lda(feature_train,label_train,solver,shrinkage,n_components):\n",
    "    start = time.time()\n",
    "    lda = LDA(solver=solver,shrinkage=shrinkage,n_components=n_components).fit(feature_train,label_train)\n",
    "    end = time.time()\n",
    "    train_time = end-start\n",
    "    return [train_time, lda]"
   ]
  }
 ],
 "metadata": {
  "kernelspec": {
   "display_name": "Python 3",
   "language": "python",
   "name": "python3"
  },
  "language_info": {
   "codemirror_mode": {
    "name": "ipython",
    "version": 3
   },
   "file_extension": ".py",
   "mimetype": "text/x-python",
   "name": "python",
   "nbconvert_exporter": "python",
   "pygments_lexer": "ipython3",
   "version": "3.7.6"
  }
 },
 "nbformat": 4,
 "nbformat_minor": 4
}
