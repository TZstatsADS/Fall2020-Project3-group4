{
 "cells": [
  {
   "cell_type": "code",
   "execution_count": 1,
   "metadata": {},
   "outputs": [],
   "source": [
    "import numpy as np\n",
    "import pandas as pd\n",
    "from sklearn.metrics import pairwise_distances"
   ]
  },
  {
   "cell_type": "code",
   "execution_count": 2,
   "metadata": {},
   "outputs": [],
   "source": [
    "def feature_initial(input_list, index, info = np.nan):\n",
    "    ### Construct initial features for training images \n",
    "    ### Input: input_list: a list of fiducial points; index: train index or test index; \n",
    "    ###        info: optional labeled data frame\n",
    "    ### Output: a data frame containing: features and a column of label (if info is not provided, then only features)\n",
    "\n",
    "    ### here is an example of extracting pairwise distances between fiducial points\n",
    "    ### Step 1: Write a function pairwise_dist to calculate pairwise distance of items in a vector\n",
    "    def pairwise_dist(vec):\n",
    "        n = len(vec)\n",
    "        dist_matrix = pairwise_distances(np.array(vec).reshape(-1,1),metric='euclidean')\n",
    "        return list(dist_matrix[np.triu_indices(n,k=1)])\n",
    "    \n",
    "    ### Step 2: Write a function pairwise_dist_result to apply function in Step 1 to column of a matrix \n",
    "    def pairwise_dist_result(mat):\n",
    "        ### input: a n*2 matrix(e.g. fiducial_pt_list[[1]]), output: a vector(length n(n-1))\n",
    "        return list(np.transpose(np.apply_along_axis(pairwise_dist,0,mat)).flatten())\n",
    "    \n",
    "    ### Step 3: Apply function in Step 2 to selected index of input list, output: a feature matrix with ncol = n(n-1) = 78*77 = 6006\n",
    "    pairwise_dist_feature = ((np.array(list(map(pairwise_dist_result, [input_list[i] for i in index])))))\n",
    "    pairwise_dist_feature.shape\n",
    "    \n",
    "    colnames = ['feature'+str(i) for i in range(pairwise_dist_feature.shape[1])]\n",
    "    df = pd.DataFrame(pairwise_dist_feature,columns=colnames)\n",
    "    #if there's a label column then include it in the output, otherwise don't include a label column\n",
    "    try:\n",
    "        label_df = pd.DataFrame(list(info['label'].iloc[index]),columns=['labels'])\n",
    "        pairwise_data = pd.concat([df,label_df],axis=1)\n",
    "    except ValueError:\n",
    "        pairwise_data = df\n",
    "        \n",
    "    return pairwise_data"
   ]
  }
 ],
 "metadata": {
  "kernelspec": {
   "display_name": "Python 3",
   "language": "python",
   "name": "python3"
  },
  "language_info": {
   "codemirror_mode": {
    "name": "ipython",
    "version": 3
   },
   "file_extension": ".py",
   "mimetype": "text/x-python",
   "name": "python",
   "nbconvert_exporter": "python",
   "pygments_lexer": "ipython3",
   "version": "3.7.6"
  }
 },
 "nbformat": 4,
 "nbformat_minor": 4
}
