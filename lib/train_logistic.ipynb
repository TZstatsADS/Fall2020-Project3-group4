{
 "cells": [
  {
   "cell_type": "code",
   "execution_count": 1,
   "metadata": {},
   "outputs": [],
   "source": [
    "from sklearn.linear_model import LogisticRegression\n",
    "import time"
   ]
  },
  {
   "cell_type": "code",
   "execution_count": 2,
   "metadata": {},
   "outputs": [],
   "source": [
    "def train_logistic(feature_train,label_train,C,dual,fit_intercept,intercept_scaling,max_iter,multi_class,penalty,solver,tol,class_weight):\n",
    "    start = time.time()\n",
    "    lr = LogisticRegression(C=C,dual=dual,fit_intercept=fit_intercept,intercept_scaling=intercept_scaling,\n",
    "                           max_iter=max_iter,multi_class=multi_class,penalty=penalty,solver=solver,\n",
    "                           tol=tol,class_weight=class_weight).fit(feature_train,label_train)\n",
    "    end = time.time()\n",
    "    train_time = end-start\n",
    "    return [train_time,lr]"
   ]
  }
 ],
 "metadata": {
  "kernelspec": {
   "display_name": "Python 3",
   "language": "python",
   "name": "python3"
  },
  "language_info": {
   "codemirror_mode": {
    "name": "ipython",
    "version": 3
   },
   "file_extension": ".py",
   "mimetype": "text/x-python",
   "name": "python",
   "nbconvert_exporter": "python",
   "pygments_lexer": "ipython3",
   "version": "3.7.6"
  }
 },
 "nbformat": 4,
 "nbformat_minor": 4
}
