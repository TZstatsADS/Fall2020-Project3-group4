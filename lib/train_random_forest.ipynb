{
 "cells": [
  {
   "cell_type": "code",
   "execution_count": 1,
   "metadata": {},
   "outputs": [],
   "source": [
    "from sklearn.ensemble import RandomForestClassifier\n",
    "import time"
   ]
  },
  {
   "cell_type": "code",
   "execution_count": 2,
   "metadata": {},
   "outputs": [],
   "source": [
    "def train_random_forest(feature_train,label_train,n_estimators,criterion,min_samples_leaf,max_features):\n",
    "    #Input: feature data frame, label series, model parameters\n",
    "    #Output: time to train model, trained model\n",
    "    start = time.time()\n",
    "    rf = RandomForestClassifier(n_estimators=n_estimators,criterion=criterion,min_samples_leaf=min_samples_leaf,max_features=max_features).fit(feature_train,label_train)\n",
    "    end = time.time()\n",
    "    train_time = end-start\n",
    "    return [train_time,rf]"
   ]
  }
 ],
 "metadata": {
  "kernelspec": {
   "display_name": "Python 3",
   "language": "python",
   "name": "python3"
  },
  "language_info": {
   "codemirror_mode": {
    "name": "ipython",
    "version": 3
   },
   "file_extension": ".py",
   "mimetype": "text/x-python",
   "name": "python",
   "nbconvert_exporter": "python",
   "pygments_lexer": "ipython3",
   "version": "3.7.6"
  }
 },
 "nbformat": 4,
 "nbformat_minor": 4
}
