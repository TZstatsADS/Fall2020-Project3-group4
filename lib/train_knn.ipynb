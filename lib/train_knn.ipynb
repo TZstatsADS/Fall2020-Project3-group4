{
 "cells": [
  {
   "cell_type": "code",
   "execution_count": 1,
   "metadata": {},
   "outputs": [],
   "source": [
    "from sklearn.neighbors import KNeighborsClassifier\n",
    "import time"
   ]
  },
  {
   "cell_type": "code",
   "execution_count": 2,
   "metadata": {},
   "outputs": [],
   "source": [
    "def train_knn(feature_train,label_train,n_neighbors):\n",
    "    #Input: feature data frame, label series, model parameters\n",
    "    #Output: time to train model, trained model\n",
    "    start = time.time()\n",
    "    knn = KNeighborsClassifier(n_neighbors=n_neighbors).fit(feature_train,label_train)\n",
    "    end = time.time()\n",
    "    train_time = end-start\n",
    "    return [train_time,knn]"
   ]
  }
 ],
 "metadata": {
  "kernelspec": {
   "display_name": "Python 3",
   "language": "python",
   "name": "python3"
  },
  "language_info": {
   "codemirror_mode": {
    "name": "ipython",
    "version": 3
   },
   "file_extension": ".py",
   "mimetype": "text/x-python",
   "name": "python",
   "nbconvert_exporter": "python",
   "pygments_lexer": "ipython3",
   "version": "3.7.6"
  }
 },
 "nbformat": 4,
 "nbformat_minor": 4
}
