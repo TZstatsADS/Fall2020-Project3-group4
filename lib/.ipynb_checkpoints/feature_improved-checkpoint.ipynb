{
 "cells": [
  {
   "cell_type": "code",
   "execution_count": 1,
   "metadata": {},
   "outputs": [],
   "source": [
    "import numpy as np\n",
    "import pandas as pd\n",
    "from scipy.spatial.distance import pdist, squareform"
   ]
  },
  {
   "cell_type": "code",
   "execution_count": null,
   "metadata": {},
   "outputs": [],
   "source": [
    "def feature_dis_between_points(input_list, index, info):\n",
    "    ### Construct process features for training images \n",
    "    ### Input: a list of images or fiducial points; index: train index or test index\n",
    "    ### Output: a data frame containing: features and a column of label\n",
    "\n",
    "    ### here is an example of extracting pairwise distances between fiducial points\n",
    "    ### Step 1: Write a function pairwise_dist to calculate pairwise distance of items in a matrix\n",
    "    ### For every two points p1 and p2, the distance=sqrt((p1[0]-p2[0])**2+(p1[1]-p2[1])**2)\n",
    "    def pairwise_dist(mat):\n",
    "        ### input: a n*2 matrix(e.g. fiducial_pt_list[[1]]), output: a vector(length n(n-1)/2)\n",
    "        dist = pdist(mat)\n",
    "        return dist\n",
    "    \n",
    "    ### Step 2: Apply function in Step 1 to selected index of input list, output: a feature matrix with ncol = n(n-1)/2 = 78*77/2 = 3003\n",
    "    pairwise_dist_feature = ((np.array(list(map(pairwise_dist, [input_list[i] for i in index])))))\n",
    "    pairwise_dist_feature.shape\n",
    "    \n",
    "    colnames = ['feature'+str(i) for i in range(pairwise_dist_feature.shape[1])]\n",
    "    df = pd.DataFrame(pairwise_dist_feature,columns=colnames)\n",
    "    label_df = pd.DataFrame(list(info['label'].iloc[index]),columns=['labels'])\n",
    "    \n",
    "    pairwise_data = pd.concat([df,label_df],axis=1)\n",
    "    return pairwise_data"
   ]
  }
 ],
 "metadata": {
  "kernelspec": {
   "display_name": "Python 3",
   "language": "python",
   "name": "python3"
  },
  "language_info": {
   "codemirror_mode": {
    "name": "ipython",
    "version": 3
   },
   "file_extension": ".py",
   "mimetype": "text/x-python",
   "name": "python",
   "nbconvert_exporter": "python",
   "pygments_lexer": "ipython3",
   "version": "3.8.1"
  }
 },
 "nbformat": 4,
 "nbformat_minor": 4
}
