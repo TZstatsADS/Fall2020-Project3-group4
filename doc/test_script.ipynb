{
 "cells": [
  {
   "cell_type": "markdown",
   "metadata": {},
   "source": [
    "This script is used to evaluate the test data that will be given in class on the presentation day."
   ]
  },
  {
   "cell_type": "code",
   "execution_count": 1,
   "metadata": {},
   "outputs": [],
   "source": [
    "import pandas as pd"
   ]
  },
  {
   "cell_type": "code",
   "execution_count": 2,
   "metadata": {},
   "outputs": [],
   "source": [
    "#someone has to make an example csv to test if this works\n",
    "results = pd.read_csv('../data/label_prediction.csv')\n",
    "#3 columns, index, baseline, advanced"
   ]
  },
  {
   "cell_type": "code",
   "execution_count": null,
   "metadata": {},
   "outputs": [],
   "source": [
    "#read in test fiducial data\n",
    "\n",
    "n_files = len(os.listdir('../data/test_set/points'))\n",
    "\n",
    "def readMat_matrix(index):\n",
    "    try:\n",
    "        mat_data = scipy.io.loadmat(train_pt_dir+'{:04d}'.format(index)+'.mat')['faceCoordinatesUnwarped']\n",
    "    except KeyError:\n",
    "        mat_data = scipy.io.loadmat(train_pt_dir+'{:04d}'.format(index)+'.mat')['faceCoordinates2']\n",
    "    return np.matrix.round(mat_data,0)\n",
    "\n",
    "#load fiducial points\n",
    "fiducial_pt_list = list(map(readMat_matrix,list(range(1,n_files+1))))"
   ]
  },
  {
   "cell_type": "code",
   "execution_count": null,
   "metadata": {},
   "outputs": [],
   "source": [
    "from ipynb.fs.full.feature_initial import feature_initial\n",
    "baseline = pickle.load(open(\"../output/baseline.p\", \"rb\"))\n",
    "baseline_features = feature_initial(fiducial_pt_list,results['index'])\n",
    "baseline_preds = baseline.predict(baseline_features)\n",
    "results['baseline'] = list(baseline_preds)"
   ]
  },
  {
   "cell_type": "code",
   "execution_count": null,
   "metadata": {},
   "outputs": [],
   "source": [
    "#we haven't decided on an advanced model yet so this won't run\n",
    "from ipynb.fs.full.feature_improved import feature_improved\n",
    "advanced = pickle.load(open(\"../output/advanced.p\", \"rb\"))\n",
    "advanced_features = feature_improved(fiducial_pt_list,results['index'])\n",
    "advanced_preds = advanced.predict(advanced_features)\n",
    "results['advanced'] = list(baseline_preds)"
   ]
  },
  {
   "cell_type": "code",
   "execution_count": null,
   "metadata": {},
   "outputs": [],
   "source": [
    "pd.to_csv('../output/label_prediction.csv',index=False)"
   ]
  },
  {
   "cell_type": "code",
   "execution_count": null,
   "metadata": {},
   "outputs": [],
   "source": [
    "results.head(10)"
   ]
  }
 ],
 "metadata": {
  "kernelspec": {
   "display_name": "Python 3",
   "language": "python",
   "name": "python3"
  },
  "language_info": {
   "codemirror_mode": {
    "name": "ipython",
    "version": 3
   },
   "file_extension": ".py",
   "mimetype": "text/x-python",
   "name": "python",
   "nbconvert_exporter": "python",
   "pygments_lexer": "ipython3",
   "version": "3.7.6"
  }
 },
 "nbformat": 4,
 "nbformat_minor": 4
}
