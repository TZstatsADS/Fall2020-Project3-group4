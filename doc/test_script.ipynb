{
 "cells": [
  {
   "cell_type": "markdown",
   "metadata": {},
   "source": [
    "This script is used to evaluate the test data that will be given in class on the presentation day."
   ]
  },
  {
   "cell_type": "code",
   "execution_count": 1,
   "metadata": {},
   "outputs": [],
   "source": [
    "import pandas as pd\n",
    "import os\n",
    "import scipy.io\n",
    "import numpy as np\n",
    "import ipynb\n",
    "import sys\n",
    "import pickle\n",
    "sys.path.append('../lib/')"
   ]
  },
  {
   "cell_type": "code",
   "execution_count": 2,
   "metadata": {},
   "outputs": [],
   "source": [
    "#creating a test data frame that matches the format mentioned on courseworks\n",
    "#3 columns: index, baseline, advanced\n",
    "index=list(range(1,2000))\n",
    "test_df=pd.DataFrame({'index':index})\n",
    "test_df['baseline']=\"\"\n",
    "test_df['advanced']=\"\"\n",
    "test_df.to_csv('../data/label_prediction_test.csv',index=False)"
   ]
  },
  {
   "cell_type": "code",
   "execution_count": 3,
   "metadata": {},
   "outputs": [],
   "source": [
    "results = pd.read_csv('../data/label_prediction_test.csv')"
   ]
  },
  {
   "cell_type": "code",
   "execution_count": 4,
   "metadata": {},
   "outputs": [
    {
     "data": {
      "text/plain": [
       "\"\\n#read in test fiducial data (use this cell on the presentation day)\\n\\nn_files = len(os.listdir('../data/test_set/points/'))\\ntest_pt_dir = '../data/test_set_points/'\\n\\ndef readMat_matrix(index):\\n    try:\\n        mat_data = scipy.io.loadmat(test_pt_dir+'{:04d}'.format(index)+'.mat')['faceCoordinatesUnwarped']\\n    except KeyError:\\n        mat_data = scipy.io.loadmat(test_pt_dir+'{:04d}'.format(index)+'.mat')['faceCoordinates2']\\n    return np.matrix.round(mat_data,0)\\n\\n#load fiducial points\\nfiducial_pt_list = list(map(readMat_matrix,list(range(1,n_files+1))))\\n#fiducial_pt_list = list(map(readMat_matrix,list(results['index'])))\\n\""
      ]
     },
     "execution_count": 4,
     "metadata": {},
     "output_type": "execute_result"
    }
   ],
   "source": [
    "\"\"\"\n",
    "#read in test fiducial data (use this cell on the presentation day)\n",
    "\n",
    "n_files = len(os.listdir('../data/test_set/points/'))\n",
    "test_pt_dir = '../data/test_set_points/'\n",
    "\n",
    "def readMat_matrix(index):\n",
    "    try:\n",
    "        mat_data = scipy.io.loadmat(test_pt_dir+'{:04d}'.format(index)+'.mat')['faceCoordinatesUnwarped']\n",
    "    except KeyError:\n",
    "        mat_data = scipy.io.loadmat(test_pt_dir+'{:04d}'.format(index)+'.mat')['faceCoordinates2']\n",
    "    return np.matrix.round(mat_data,0)\n",
    "\n",
    "#load fiducial points\n",
    "fiducial_pt_list = list(map(readMat_matrix,list(range(1,n_files+1))))\n",
    "#fiducial_pt_list = list(map(readMat_matrix,list(results['index'])))\n",
    "\"\"\""
   ]
  },
  {
   "cell_type": "code",
   "execution_count": 5,
   "metadata": {},
   "outputs": [],
   "source": [
    "#read in test fiducial data\n",
    "\n",
    "n_files = len(os.listdir('../data/train_set/points/'))\n",
    "train_pt_dir = '../data/train_set/points/'\n",
    "\n",
    "def readMat_matrix(index):\n",
    "    try:\n",
    "        mat_data = scipy.io.loadmat(train_pt_dir+'{:04d}'.format(index)+'.mat')['faceCoordinatesUnwarped']\n",
    "    except KeyError:\n",
    "        mat_data = scipy.io.loadmat(train_pt_dir+'{:04d}'.format(index)+'.mat')['faceCoordinates2']\n",
    "    return np.matrix.round(mat_data,0)\n",
    "\n",
    "#load fiducial points\n",
    "fiducial_pt_list = list(map(readMat_matrix,list(range(1,n_files+1))))\n",
    "#fiducial_pt_list = list(map(readMat_matrix,list(results['index'])))"
   ]
  },
  {
   "cell_type": "code",
   "execution_count": 6,
   "metadata": {},
   "outputs": [],
   "source": [
    "from ipynb.fs.full.feature_initial import feature_initial\n",
    "baseline = pickle.load(open(\"../output/baseline.p\", \"rb\"))\n",
    "baseline_features = feature_initial(fiducial_pt_list,results['index'])\n",
    "baseline_preds = baseline.predict(baseline_features)\n",
    "results['baseline'] = list(baseline_preds)"
   ]
  },
  {
   "cell_type": "code",
   "execution_count": 7,
   "metadata": {},
   "outputs": [
    {
     "data": {
      "text/plain": [
       "'\\nfrom ipynb.fs.full.feature_improved import feature_improved\\nadvanced = pickle.load(open(\"../output/advanced.p\", \"rb\"))\\nadvanced_features = feature_improved(fiducial_pt_list,results[\\'index\\'])\\nadvanced_preds = advanced.predict(advanced_features)\\nresults[\\'advanced\\'] = list(baseline_preds)\\n'"
      ]
     },
     "execution_count": 7,
     "metadata": {},
     "output_type": "execute_result"
    }
   ],
   "source": [
    "#we haven't decided on an advanced model yet so this won't run\n",
    "\"\"\"\n",
    "from ipynb.fs.full.feature_improved import feature_improved\n",
    "advanced = pickle.load(open(\"../output/advanced.p\", \"rb\"))\n",
    "advanced_features = feature_improved(fiducial_pt_list,results['index'])\n",
    "advanced_preds = advanced.predict(advanced_features)\n",
    "results['advanced'] = list(baseline_preds)\n",
    "\"\"\""
   ]
  },
  {
   "cell_type": "code",
   "execution_count": 8,
   "metadata": {},
   "outputs": [],
   "source": [
    "results.to_csv('../output/label_prediction.csv',index=False)"
   ]
  },
  {
   "cell_type": "code",
   "execution_count": 9,
   "metadata": {},
   "outputs": [
    {
     "data": {
      "text/html": [
       "<div>\n",
       "<style scoped>\n",
       "    .dataframe tbody tr th:only-of-type {\n",
       "        vertical-align: middle;\n",
       "    }\n",
       "\n",
       "    .dataframe tbody tr th {\n",
       "        vertical-align: top;\n",
       "    }\n",
       "\n",
       "    .dataframe thead th {\n",
       "        text-align: right;\n",
       "    }\n",
       "</style>\n",
       "<table border=\"1\" class=\"dataframe\">\n",
       "  <thead>\n",
       "    <tr style=\"text-align: right;\">\n",
       "      <th></th>\n",
       "      <th>index</th>\n",
       "      <th>baseline</th>\n",
       "      <th>advanced</th>\n",
       "    </tr>\n",
       "  </thead>\n",
       "  <tbody>\n",
       "    <tr>\n",
       "      <th>0</th>\n",
       "      <td>1</td>\n",
       "      <td>1</td>\n",
       "      <td>NaN</td>\n",
       "    </tr>\n",
       "    <tr>\n",
       "      <th>1</th>\n",
       "      <td>2</td>\n",
       "      <td>1</td>\n",
       "      <td>NaN</td>\n",
       "    </tr>\n",
       "    <tr>\n",
       "      <th>2</th>\n",
       "      <td>3</td>\n",
       "      <td>1</td>\n",
       "      <td>NaN</td>\n",
       "    </tr>\n",
       "    <tr>\n",
       "      <th>3</th>\n",
       "      <td>4</td>\n",
       "      <td>0</td>\n",
       "      <td>NaN</td>\n",
       "    </tr>\n",
       "    <tr>\n",
       "      <th>4</th>\n",
       "      <td>5</td>\n",
       "      <td>0</td>\n",
       "      <td>NaN</td>\n",
       "    </tr>\n",
       "    <tr>\n",
       "      <th>5</th>\n",
       "      <td>6</td>\n",
       "      <td>1</td>\n",
       "      <td>NaN</td>\n",
       "    </tr>\n",
       "    <tr>\n",
       "      <th>6</th>\n",
       "      <td>7</td>\n",
       "      <td>1</td>\n",
       "      <td>NaN</td>\n",
       "    </tr>\n",
       "    <tr>\n",
       "      <th>7</th>\n",
       "      <td>8</td>\n",
       "      <td>1</td>\n",
       "      <td>NaN</td>\n",
       "    </tr>\n",
       "    <tr>\n",
       "      <th>8</th>\n",
       "      <td>9</td>\n",
       "      <td>0</td>\n",
       "      <td>NaN</td>\n",
       "    </tr>\n",
       "    <tr>\n",
       "      <th>9</th>\n",
       "      <td>10</td>\n",
       "      <td>1</td>\n",
       "      <td>NaN</td>\n",
       "    </tr>\n",
       "  </tbody>\n",
       "</table>\n",
       "</div>"
      ],
      "text/plain": [
       "   index  baseline  advanced\n",
       "0      1         1       NaN\n",
       "1      2         1       NaN\n",
       "2      3         1       NaN\n",
       "3      4         0       NaN\n",
       "4      5         0       NaN\n",
       "5      6         1       NaN\n",
       "6      7         1       NaN\n",
       "7      8         1       NaN\n",
       "8      9         0       NaN\n",
       "9     10         1       NaN"
      ]
     },
     "execution_count": 9,
     "metadata": {},
     "output_type": "execute_result"
    }
   ],
   "source": [
    "results.head(10)"
   ]
  },
  {
   "cell_type": "code",
   "execution_count": null,
   "metadata": {},
   "outputs": [],
   "source": []
  }
 ],
 "metadata": {
  "kernelspec": {
   "display_name": "Python 3",
   "language": "python",
   "name": "python3"
  },
  "language_info": {
   "codemirror_mode": {
    "name": "ipython",
    "version": 3
   },
   "file_extension": ".py",
   "mimetype": "text/x-python",
   "name": "python",
   "nbconvert_exporter": "python",
   "pygments_lexer": "ipython3",
   "version": "3.7.6"
  }
 },
 "nbformat": 4,
 "nbformat_minor": 4
}
